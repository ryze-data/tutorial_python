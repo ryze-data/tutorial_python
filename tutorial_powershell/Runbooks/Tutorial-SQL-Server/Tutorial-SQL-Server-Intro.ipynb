{
    "metadata": {
        "kernelspec": {
            "name": "powershell",
            "display_name": "PowerShell",
            "language": "powershell"
        },
        "language_info": {
            "name": "powershell",
            "codemirror_mode": "shell",
            "mimetype": "text/x-sh",
            "file_extension": ".ps1"
        }
    },
    "nbformat_minor": 2,
    "nbformat": 4,
    "cells": [
        {
            "cell_type": "code",
            "source": [
                "# if module is being installed for the first time then run powershell as admin and execute below\r\n",
                "# Install-Module -Name SqlServer\r\n",
                "# Set-PSRepository -Name PSGallery -InstallationPolicy Trusted\r\n",
                "# Get-PSRepository to check and confirm the gallery is trusted\r\n",
                "Get-Module SqlServer -ListAvailable\r\n",
                "(Get-Module SqlServer).Version"
            ],
            "metadata": {
                "language": "powershell",
                "azdata_cell_guid": "b84c7239-da2c-442e-85eb-3717694e99c5",
                "tags": []
            },
            "outputs": [
                {
                    "name": "stdout",
                    "text": "\n\n    Directory: C:\\Program Files\\WindowsPowerShell\\Modules\n\n\nModuleType Version    Name                                ExportedCommands                                             \n---------- -------    ----                                ----------------                                             \nScript     21.1.18256 SqlServer                           {Add-RoleMember, Add-SqlAvailabilityDatabase, Add-SqlAvail...\n\n\n",
                    "output_type": "stream"
                }
            ],
            "execution_count": 5
        },
        {
            "cell_type": "code",
            "source": [
                "import-module -Name sqlserver   ## may need to import\r\n",
                "# If you get an error run the following in powershell as administrator\r\n",
                "# Set-ExecutionPolicy -ExecutionPolicy RemoteSigned -Scope LocalMachine\r\n",
                ""
            ],
            "metadata": {
                "azdata_cell_guid": "e5320ed0-9b08-4238-99da-53f2540942c1",
                "language": "powershell"
            },
            "outputs": [
                {
                    "name": "stdout",
                    "text": "Get-SqlInstance : Missing an argument for parameter 'Path'. Specify a parameter of type 'System.String[]' and try \nagain.\nAt line:5 char:17\n+ get-sqlinstance -Path\n+                 ~~~~~\n    + CategoryInfo          : InvalidArgument: (:) [Get-SqlInstance], ParameterBindingException\n    + FullyQualifiedErrorId : MissingArgument,Microsoft.SqlServer.Management.PowerShell.GetSqlInstanceCommand\n \n",
                    "output_type": "stream"
                }
            ],
            "execution_count": 14
        }
    ]
}