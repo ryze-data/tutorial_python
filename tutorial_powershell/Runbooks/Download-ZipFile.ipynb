{
    "metadata": {
        "kernelspec": {
            "name": "powershell",
            "display_name": "PowerShell",
            "language": "powershell"
        },
        "language_info": {
            "name": "powershell",
            "codemirror_mode": "shell",
            "mimetype": "text/x-sh",
            "file_extension": ".ps1"
        }
    },
    "nbformat_minor": 2,
    "nbformat": 4,
    "cells": [
        {
            "cell_type": "markdown",
            "source": [
                "# Download file from Website"
            ],
            "metadata": {
                "azdata_cell_guid": "26588da3-dbb8-476d-a54e-13d68657090b"
            },
            "attachments": {}
        },
        {
            "cell_type": "code",
            "source": [
                "$source = 'https://github.com/PowerShell/PowerShell/blob/master/docs/learning-powershell/powershell-beginners-guide.md'\r\n",
                "$destination = 'C:\\Users\\mjeffs\\Downloads\\Inbox\\powershell-beginners-guide.md'\r\n",
                "Invoke-RestMethod -Uri $source -OutFile $destination"
            ],
            "metadata": {
                "azdata_cell_guid": "6d6906a8-8fa8-4cd2-ad5c-d34f9146b3ed",
                "language": "powershell"
            },
            "outputs": [
                {
                    "output_type": "stream",
                    "name": "stdout",
                    "text": ""
                }
            ],
            "execution_count": 1
        },
        {
            "cell_type": "markdown",
            "source": [
                "# Download Zip"
            ],
            "metadata": {
                "azdata_cell_guid": "11c5502d-8b3e-41e1-a4eb-1f4c294139a1"
            },
            "attachments": {}
        },
        {
            "cell_type": "code",
            "source": [
                "$Url = \"https://github.com/microsoft/vscode-docker/archive/master.zip\"\r\n",
                "echo $Url\r\n",
                "$DownloadZipFile = \"C:\\Users\\mjeffs\\Downloads\\Inbox\\\" + $(Split-Path -Path $Url -Leaf)\r\n",
                "echo $DownloadZipFile\r\n",
                "$ExtractPath = \"C:\\Users\\mjeffs\\Downloads\\Inbox\\\"\r\n",
                "echo $ExtractPath\r\n",
                "Invoke-WebRequest -Uri $Url -OutFile $DownloadZipFile\r\n",
                "$ExtractShell = New-Object -ComObject Shell.Application \r\n",
                "$ExtractFiles = $ExtractShell.Namespace($DownloadZipFile).Items()\r\n",
                "\r\n",
                "$ExtractShell.NameSpace($ExtractPath).CopyHere($ExtractFiles) \r\n",
                "Start-Process $ExtractPath\r\n",
                "echo \"Finished\"\r\n",
                ""
            ],
            "metadata": {
                "language": "powershell",
                "azdata_cell_guid": "98a49bb8-5c62-456d-a5a1-3b8e43d9cebd"
            },
            "outputs": [
                {
                    "name": "stdout",
                    "text": "https://downloads.brentozar.com/FirstResponderKit.zip\n",
                    "output_type": "stream"
                },
                {
                    "name": "stdout",
                    "text": "C:\\Users\\mjeffs\\Downloads\\Inbox\\FirstResponderKit.zip\nC:\\Users\\mjeffs\\Downloads\\Inbox\\\n",
                    "output_type": "stream"
                },
                {
                    "name": "stdout",
                    "text": "Finished\n",
                    "output_type": "stream"
                }
            ],
            "execution_count": 1
        },
        {
            "cell_type": "code",
            "source": [
                "$Url = \"https://downloads.brentozar.com/FirstResponderKit.zip\"\r\n",
                "echo $Url\r\n",
                "$DownloadZipFile = \"C:\\Download-Inbox\" + $(Split-Path -Path $Url -Leaf)\r\n",
                "echo $DownloadZipFile\r\n",
                "$ExtractPath = \"C:\\Download-Inbox\"\r\n",
                "echo $ExtractPath\r\n",
                "Invoke-WebRequest -Uri $Url -OutFile $DownloadZipFile\r\n",
                "$ExtractShell = New-Object -ComObject Shell.Application \r\n",
                "$ExtractFiles = $ExtractShell.Namespace($DownloadZipFile).Items()\r\n",
                "\r\n",
                "$ExtractShell.NameSpace($ExtractPath).CopyHere($ExtractFiles) \r\n",
                "Start-Process $ExtractPath\r\n",
                "echo \"Finished\""
            ],
            "metadata": {
                "azdata_cell_guid": "606dd072-102c-416b-88ad-dd6553b09929",
                "language": "powershell"
            },
            "outputs": [
                {
                    "output_type": "stream",
                    "name": "stdout",
                    "text": "https://downloads.brentozar.com/FirstResponderKit.zip\n"
                },
                {
                    "output_type": "stream",
                    "name": "stdout",
                    "text": "C:\\Users\\mjeffs\\Downloads\\Inbox\\FirstResponderKit.zip\nC:\\Users\\mjeffs\\Downloads\\Inbox\\\n"
                },
                {
                    "output_type": "stream",
                    "name": "stdout",
                    "text": "Finished\n"
                }
            ],
            "execution_count": 2
        },
        {
            "cell_type": "markdown",
            "source": [
                ""
            ],
            "metadata": {
                "azdata_cell_guid": "0b559671-d69c-444b-9bd0-40cbba8906c0"
            }
        }
    ]
}